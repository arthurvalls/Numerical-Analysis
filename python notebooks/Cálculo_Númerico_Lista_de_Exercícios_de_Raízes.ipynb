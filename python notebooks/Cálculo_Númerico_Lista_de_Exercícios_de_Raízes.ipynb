{
  "nbformat": 4,
  "nbformat_minor": 0,
  "metadata": {
    "colab": {
      "name": "Cálculo Númerico - Lista de Exercícios de Raízes",
      "provenance": [],
      "collapsed_sections": []
    },
    "kernelspec": {
      "name": "python3",
      "display_name": "Python 3"
    },
    "language_info": {
      "name": "python"
    }
  },
  "cells": [
    {
      "cell_type": "markdown",
      "source": [
        "#Nome: Arthur Valls da Costa Silva\n",
        "#DRE: 120177470"
      ],
      "metadata": {
        "id": "IF-kNBN__e_Z"
      }
    },
    {
      "cell_type": "markdown",
      "source": [
        "#Imports\n"
      ],
      "metadata": {
        "id": "LQKp9kEt6QL-"
      }
    },
    {
      "cell_type": "code",
      "source": [
        "import numpy as np\n",
        "import sympy as sym\n",
        "import math\n",
        "from sympy import *"
      ],
      "metadata": {
        "id": "K9rlw2TvNSn4"
      },
      "execution_count": null,
      "outputs": []
    },
    {
      "cell_type": "markdown",
      "source": [
        "#Questão 1 e 2)"
      ],
      "metadata": {
        "id": "MDMsH3F_qkdg"
      }
    },
    {
      "cell_type": "markdown",
      "source": [
        "#Método da Bisseção:\n"
      ],
      "metadata": {
        "id": "nYE63NIBOpeh"
      }
    },
    {
      "cell_type": "code",
      "execution_count": null,
      "metadata": {
        "id": "HFUthpaOKTx9"
      },
      "outputs": [],
      "source": [
        "def function(x):\n",
        "    return (x*(math.log(x,10))) -1\n",
        "\n",
        "def bisection(a,b):\n",
        "    if function(a)*function(b) >= 0:\n",
        "        print(\"Falha.\")\n",
        "        return 0\n",
        "    \n",
        "    error = 0.0000001\n",
        "    haltingCondition = True\n",
        "    iter = 0\n",
        "\n",
        "    while haltingCondition:\n",
        "        root = (a + b)/2\n",
        "        iter += 1\n",
        "        if function(a)*function(root) < 0:\n",
        "            a = a\n",
        "            b = root\n",
        "        elif function(b)*function(root) < 0:\n",
        "            a = root\n",
        "            b = b\n",
        "        elif function(root) == 0:\n",
        "            print(\"Solução encontrada.\")\n",
        "            return root\n",
        "        else:\n",
        "            print(\"Falha.\")\n",
        "            return 0\n",
        "        haltingCondition = abs(function(root)) > error\n",
        "        solution = (a + b)/2\n",
        "    print(\"Estimativa final para raíz: {}\\nEncontrada em {} iterações.\\nFunção da raiz em módulo: {}.\".format(solution,iter,abs(function(solution))))\n"
      ]
    },
    {
      "cell_type": "code",
      "source": [
        "bisection(2,3)"
      ],
      "metadata": {
        "colab": {
          "base_uri": "https://localhost:8080/"
        },
        "id": "TIeIOfv0KUbA",
        "outputId": "0610c883-29a4-401a-e8f6-e1caf617ef28"
      },
      "execution_count": null,
      "outputs": [
        {
          "output_type": "stream",
          "name": "stdout",
          "text": [
            "Estimativa final para raíz: 2.5061843395233154\n",
            "Encontrada em 21 iterações.\n",
            "Função da raiz em módulo: 1.616071072518821e-07.\n"
          ]
        }
      ]
    },
    {
      "cell_type": "markdown",
      "source": [
        "#Método da Falsa Posição:"
      ],
      "metadata": {
        "id": "6JIFIt8EOxpP"
      }
    },
    {
      "cell_type": "code",
      "source": [
        "def function(x):\n",
        "    return (x*(math.log10(x)))-1\n",
        "\n",
        "def falsePosition(a,b):\n",
        "    \n",
        "    error = 0.0000001\n",
        "    iter = 0\n",
        "    previousX = 0\n",
        "    \n",
        "    \n",
        "    haltingCondition = True\n",
        "    while haltingCondition:\n",
        " \n",
        "        root = (a*function(b) - b*function(a)) / (function(b)-function(a)) \n",
        " \n",
        "        if function(b) * function(root) < 0:\n",
        "            a = root\n",
        "        else:\n",
        "            b = root\n",
        "\n",
        "        iter += 1\n",
        "        haltingCondition = abs(function(root)) > error\n",
        "\n",
        "    print(\"Estimativa final para raíz: {}\\nEncontrada em {} iterações.\\nFunção da raiz em módulo: {}.\".format(root,iter,abs(function(root))))\n"
      ],
      "metadata": {
        "id": "uP6BMV7qO1YR"
      },
      "execution_count": null,
      "outputs": []
    },
    {
      "cell_type": "code",
      "source": [
        "def function(x):\n",
        "    return (x*(math.log(x,10))) -1\n",
        "  \n",
        "def secant(a,b):\n",
        "  \n",
        "    if function(a)*function(b) >= 0:\n",
        "        print(\"Falha.\")\n",
        "        return 0\n",
        "    error = 0.0000001\n",
        "    iter = 0\n",
        "    haltingCondition = True\n",
        "    while haltingCondition:\n",
        "        root = a - function(a)*(b - a)/(function(b) - function(a))\n",
        "        iter += 1\n",
        "        if function(a)*function(root) < 0:\n",
        "            a = a\n",
        "            b = root\n",
        "        elif function(b)*function(root) < 0:\n",
        "            a = root\n",
        "            b = b\n",
        "        elif function(root) == 0:\n",
        "            print(\"Solução encontrada.\")\n",
        "            return root\n",
        "        else:\n",
        "            print(\"Falha.\")\n",
        "            return 0\n",
        "        \n",
        "        haltingCondition = abs(function(b)) > error\n",
        "        solution = a - function(a)*(b - a)/(function(b) - function(a))\n",
        "    print(\"Estimativa final para raíz: {}\\nEncontrada em {} iterações.\\nFunção da raiz em módulo: {}.\".format(solution,iter,abs(function(solution))))\n"
      ],
      "metadata": {
        "id": "2bR6GZkS3yQS"
      },
      "execution_count": null,
      "outputs": []
    },
    {
      "cell_type": "code",
      "source": [
        "falsePosition(2,3)"
      ],
      "metadata": {
        "colab": {
          "base_uri": "https://localhost:8080/"
        },
        "id": "9u5O2nOfyghn",
        "outputId": "5a08bce0-3aff-4123-807c-c8893b22067a"
      },
      "execution_count": null,
      "outputs": [
        {
          "output_type": "stream",
          "name": "stdout",
          "text": [
            "Estimativa final para raíz: 2.506184026449166\n",
            "Encontrada em 5 iterações.\n",
            "Função da raiz em módulo: 9.927991884151055e-08.\n"
          ]
        }
      ]
    },
    {
      "cell_type": "markdown",
      "source": [
        "#Método de Newton-Raphson"
      ],
      "metadata": {
        "id": "kGwoJpuVQrAR"
      }
    },
    {
      "cell_type": "code",
      "source": [
        "def function(x):\n",
        "    return (x*(math.log(x,10))) -1\n",
        "\n",
        "def derivative(x):\n",
        "    return math.log(x,10) + 1/math.log(10)\n",
        "\n",
        "error = 0.0000001\n",
        "\n",
        "def newtonRaphson(x):\n",
        "    iter = 0\n",
        "    haltingCondition = True\n",
        "    while haltingCondition: \n",
        "      nextX = x - (function(x)/derivative(x))\n",
        "      iter += 1\n",
        "      x = nextX\n",
        "      haltingCondition = abs(function(nextX)) > error\n",
        "\n",
        "    print(\"Estimativa final para raíz: {}\\nEncontrada em {} iterações.\\nFunção da raiz em módulo: {}.\".format(x,iter,abs(function(nextX))))\n"
      ],
      "metadata": {
        "id": "s-fC93e7QvJO"
      },
      "execution_count": null,
      "outputs": []
    },
    {
      "cell_type": "code",
      "source": [
        "newtonRaphson(2)"
      ],
      "metadata": {
        "colab": {
          "base_uri": "https://localhost:8080/"
        },
        "id": "zCNUR-bFaYSn",
        "outputId": "18b9470f-9a00-4456-838a-c6bfc6806fcf"
      },
      "execution_count": null,
      "outputs": [
        {
          "output_type": "stream",
          "name": "stdout",
          "text": [
            "Estimativa final para raíz: 2.5061841472194204\n",
            "Encontrada em 3 iterações.\n",
            "Função da raiz em módulo: 1.3588337122172334e-09.\n"
          ]
        }
      ]
    },
    {
      "cell_type": "markdown",
      "source": [
        "#Método da Secante:"
      ],
      "metadata": {
        "id": "2xElIn0n4aN7"
      }
    },
    {
      "cell_type": "code",
      "source": [
        "secant(2,3)"
      ],
      "metadata": {
        "colab": {
          "base_uri": "https://localhost:8080/"
        },
        "id": "5nSMTF-T5xBw",
        "outputId": "a6cfbfe9-0396-4300-e7be-ab28a5930a25"
      },
      "execution_count": null,
      "outputs": [
        {
          "output_type": "stream",
          "name": "stdout",
          "text": [
            "Estimativa final para raíz: 2.5061841455887697\n",
            "Encontrada em 13 iterações.\n",
            "Função da raiz em módulo: 2.220446049250313e-16.\n"
          ]
        }
      ]
    },
    {
      "cell_type": "markdown",
      "source": [
        "#Questão 3)\n"
      ],
      "metadata": {
        "id": "vjeeEuz34LI8"
      }
    },
    {
      "cell_type": "code",
      "source": [
        "\n",
        "\n",
        "\n",
        "def function(x):\n",
        "    return (x**3)-2*x+2\n",
        "\n",
        "def derivative(x):\n",
        "    return (3*(x**2))-2\n",
        "\n",
        "error = 0.0000001\n",
        "\n",
        "def newtonRaphson2(x):\n",
        "    iter = 0\n",
        "    haltingCondition = 0\n",
        "    while haltingCondition<4: \n",
        "      nextX = x - (function(x)/derivative(x))\n",
        "      haltingCondition += 1\n",
        "      x = nextX\n",
        "      \n",
        "      print(\"x = {} f(x) = {}\\n\".format(x,function(x)))\n",
        "\n"
      ],
      "metadata": {
        "id": "pW38wb63fS8P"
      },
      "execution_count": null,
      "outputs": []
    },
    {
      "cell_type": "code",
      "source": [
        "newtonRaphson2(1)"
      ],
      "metadata": {
        "colab": {
          "base_uri": "https://localhost:8080/"
        },
        "id": "8umVQEG4gMIf",
        "outputId": "e22b82ef-0763-43ee-f468-10909a309ffc"
      },
      "execution_count": null,
      "outputs": [
        {
          "output_type": "stream",
          "name": "stdout",
          "text": [
            "x = 0.0 f(x) = 2.0\n",
            "\n",
            "x = 1.0 f(x) = 1.0\n",
            "\n",
            "x = 0.0 f(x) = 2.0\n",
            "\n",
            "x = 1.0 f(x) = 1.0\n",
            "\n"
          ]
        }
      ]
    },
    {
      "cell_type": "markdown",
      "source": [
        "#Questão 4)"
      ],
      "metadata": {
        "id": "vy-ykkgtuVFG"
      }
    },
    {
      "cell_type": "markdown",
      "source": [
        "Item A)"
      ],
      "metadata": {
        "id": "GRBBl4i38yaU"
      }
    },
    {
      "cell_type": "code",
      "source": [
        "def function(x):\n",
        "    return (x*(math.log(x,10))) -1\n",
        "\n",
        "def derivative(x):\n",
        "    return math.log(x,10) + 1/math.log(10)\n",
        "\n",
        "error = 0.0000001\n",
        "\n",
        "def newtonRaphsonMelhorado(x0):\n",
        "    iter = 0\n",
        "    x = x0\n",
        "    haltingCondition = True\n",
        "    while haltingCondition: \n",
        "      phi = x - function(x)/derivative(x0)\n",
        "      iter += 1\n",
        "      x = phi\n",
        "      \n",
        "      haltingCondition = abs(function(x)) > error\n",
        "      \n",
        "    print(\"x = {}  iterações = {}\\n\".format(x,iter))\n"
      ],
      "metadata": {
        "id": "7zlURtSjuUqW"
      },
      "execution_count": null,
      "outputs": []
    },
    {
      "cell_type": "code",
      "source": [
        "newtonRaphsonMelhorado(2)"
      ],
      "metadata": {
        "colab": {
          "base_uri": "https://localhost:8080/"
        },
        "id": "3vp_ZVE9vOFB",
        "outputId": "c3ddff81-dc99-40fa-8efd-aadad9472248"
      },
      "execution_count": null,
      "outputs": [
        {
          "output_type": "stream",
          "name": "stdout",
          "text": [
            "x = 2.5061841187842155  iterações = 8\n",
            "\n"
          ]
        }
      ]
    },
    {
      "cell_type": "markdown",
      "source": [
        "Como podemos exemplificar com a função x^2-2, ela também converge para uma raíz com essa melhora no MNR:"
      ],
      "metadata": {
        "id": "dLRAWI739dr_"
      }
    },
    {
      "cell_type": "code",
      "source": [
        "def function(x):\n",
        "    return (x**2)-2\n",
        "\n",
        "def derivative(x):\n",
        "    return 2*x\n",
        "\n",
        "error = 0.0000001\n",
        "\n",
        "def newtonRaphsonMelhorado2(x0):\n",
        "    iter = 0\n",
        "    x = x0\n",
        "    haltingCondition = True\n",
        "    while haltingCondition: \n",
        "      phi = x - function(x)/derivative(x0)\n",
        "      iter += 1\n",
        "      x = phi\n",
        "      \n",
        "      haltingCondition = abs(function(x)) > error\n",
        "      \n",
        "    print(\"x = {}  iterações = {}\\n\".format(x,iter))"
      ],
      "metadata": {
        "id": "rPJ9ciWQ8wBE"
      },
      "execution_count": null,
      "outputs": []
    },
    {
      "cell_type": "code",
      "source": [
        "newtonRaphsonMelhorado2(2)"
      ],
      "metadata": {
        "colab": {
          "base_uri": "https://localhost:8080/"
        },
        "id": "tIiL3KLb9RPq",
        "outputId": "2c86282d-48b1-4e8e-ddbc-894ea9491dba"
      },
      "execution_count": null,
      "outputs": [
        {
          "output_type": "stream",
          "name": "stdout",
          "text": [
            "x = 1.4142135931823114  iterações = 13\n",
            "\n"
          ]
        }
      ]
    },
    {
      "cell_type": "markdown",
      "source": [
        "Como podemos perceber a seguir com a função (x^2) + 1, o MRN melhorado divergiu."
      ],
      "metadata": {
        "id": "TPhloYz4-LG8"
      }
    },
    {
      "cell_type": "code",
      "source": [
        "def function(x):\n",
        "    return (x**2)+1\n",
        "\n",
        "def derivative(x):\n",
        "    return 2*x\n",
        "\n",
        "error = 0.0000001\n",
        "\n",
        "def newtonRaphsonMelhorado3(x0):\n",
        "    iter = 0\n",
        "    x = x0\n",
        "    haltingCondition = True\n",
        "    while haltingCondition: \n",
        "      phi = x - function(x)/derivative(x0)\n",
        "      iter += 1\n",
        "      x = phi\n",
        "      \n",
        "      haltingCondition = abs(function(x)) > error\n",
        "      \n",
        "    print(\"x = {}  iterações = {}\\n\".format(x,iter))"
      ],
      "metadata": {
        "id": "gvbv4Uo39ouP"
      },
      "execution_count": null,
      "outputs": []
    },
    {
      "cell_type": "code",
      "source": [
        "newtonRaphsonMelhorado3(2)"
      ],
      "metadata": {
        "colab": {
          "base_uri": "https://localhost:8080/",
          "height": 311
        },
        "id": "uCgL38iA-CUF",
        "outputId": "0051c8e1-075e-4dd6-fea7-04e41fa9c456"
      },
      "execution_count": null,
      "outputs": [
        {
          "output_type": "error",
          "ename": "OverflowError",
          "evalue": "ignored",
          "traceback": [
            "\u001b[0;31m---------------------------------------------------------------------------\u001b[0m",
            "\u001b[0;31mOverflowError\u001b[0m                             Traceback (most recent call last)",
            "\u001b[0;32m<ipython-input-175-79237fdeb81f>\u001b[0m in \u001b[0;36m<module>\u001b[0;34m()\u001b[0m\n\u001b[0;32m----> 1\u001b[0;31m \u001b[0mnewtonRaphsonMelhorado3\u001b[0m\u001b[0;34m(\u001b[0m\u001b[0;36m2\u001b[0m\u001b[0;34m)\u001b[0m\u001b[0;34m\u001b[0m\u001b[0;34m\u001b[0m\u001b[0m\n\u001b[0m",
            "\u001b[0;32m<ipython-input-174-e6e7d451f59f>\u001b[0m in \u001b[0;36mnewtonRaphsonMelhorado3\u001b[0;34m(x0)\u001b[0m\n\u001b[1;32m     16\u001b[0m       \u001b[0mx\u001b[0m \u001b[0;34m=\u001b[0m \u001b[0mphi\u001b[0m\u001b[0;34m\u001b[0m\u001b[0;34m\u001b[0m\u001b[0m\n\u001b[1;32m     17\u001b[0m \u001b[0;34m\u001b[0m\u001b[0m\n\u001b[0;32m---> 18\u001b[0;31m       \u001b[0mhaltingCondition\u001b[0m \u001b[0;34m=\u001b[0m \u001b[0mabs\u001b[0m\u001b[0;34m(\u001b[0m\u001b[0mfunction\u001b[0m\u001b[0;34m(\u001b[0m\u001b[0mx\u001b[0m\u001b[0;34m)\u001b[0m\u001b[0;34m)\u001b[0m \u001b[0;34m>\u001b[0m \u001b[0merror\u001b[0m\u001b[0;34m\u001b[0m\u001b[0;34m\u001b[0m\u001b[0m\n\u001b[0m\u001b[1;32m     19\u001b[0m \u001b[0;34m\u001b[0m\u001b[0m\n\u001b[1;32m     20\u001b[0m     \u001b[0mprint\u001b[0m\u001b[0;34m(\u001b[0m\u001b[0;34m\"x = {}  iterações = {}\\n\"\u001b[0m\u001b[0;34m.\u001b[0m\u001b[0mformat\u001b[0m\u001b[0;34m(\u001b[0m\u001b[0mx\u001b[0m\u001b[0;34m,\u001b[0m\u001b[0miter\u001b[0m\u001b[0;34m)\u001b[0m\u001b[0;34m)\u001b[0m\u001b[0;34m\u001b[0m\u001b[0;34m\u001b[0m\u001b[0m\n",
            "\u001b[0;32m<ipython-input-174-e6e7d451f59f>\u001b[0m in \u001b[0;36mfunction\u001b[0;34m(x)\u001b[0m\n\u001b[1;32m      1\u001b[0m \u001b[0;32mdef\u001b[0m \u001b[0mfunction\u001b[0m\u001b[0;34m(\u001b[0m\u001b[0mx\u001b[0m\u001b[0;34m)\u001b[0m\u001b[0;34m:\u001b[0m\u001b[0;34m\u001b[0m\u001b[0;34m\u001b[0m\u001b[0m\n\u001b[0;32m----> 2\u001b[0;31m     \u001b[0;32mreturn\u001b[0m \u001b[0;34m(\u001b[0m\u001b[0mx\u001b[0m\u001b[0;34m**\u001b[0m\u001b[0;36m2\u001b[0m\u001b[0;34m)\u001b[0m\u001b[0;34m+\u001b[0m\u001b[0;36m1\u001b[0m\u001b[0;34m\u001b[0m\u001b[0;34m\u001b[0m\u001b[0m\n\u001b[0m\u001b[1;32m      3\u001b[0m \u001b[0;34m\u001b[0m\u001b[0m\n\u001b[1;32m      4\u001b[0m \u001b[0;32mdef\u001b[0m \u001b[0mderivative\u001b[0m\u001b[0;34m(\u001b[0m\u001b[0mx\u001b[0m\u001b[0;34m)\u001b[0m\u001b[0;34m:\u001b[0m\u001b[0;34m\u001b[0m\u001b[0;34m\u001b[0m\u001b[0m\n\u001b[1;32m      5\u001b[0m     \u001b[0;32mreturn\u001b[0m \u001b[0;36m2\u001b[0m\u001b[0;34m*\u001b[0m\u001b[0mx\u001b[0m\u001b[0;34m\u001b[0m\u001b[0;34m\u001b[0m\u001b[0m\n",
            "\u001b[0;31mOverflowError\u001b[0m: (34, 'Numerical result out of range')"
          ]
        }
      ]
    }
  ]
}